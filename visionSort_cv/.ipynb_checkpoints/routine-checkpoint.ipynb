{
 "cells": [
  {
   "cell_type": "code",
   "execution_count": null,
   "id": "aa03eb50-6b54-4bf0-92f0-2981db69e334",
   "metadata": {},
   "outputs": [],
   "source": [
    "import time\n",
    "from espmax import ESPMax\n",
    "from BusServo import BusServo\n",
    "bus_servo = BusServo()\n",
    "arm = ESPMax(bus_servo)\n",
    "\n",
    "\n",
    "def calculate_scaling_factor(x=300, y=303, length_proportion=110, breadth_proportion=80, image_center=(1647.5, 1275.5)):\n",
    "    factor_x = (image_center[0] - x) / length_proportion\n",
    "    factor_y = (image_center[1] - y) / breadth_proportion\n",
    "    scaling_factor = (factor_x + factor_y) / 2\n",
    "    return scaling_factor\n",
    "    \n",
    "def calculate_relative_coordinates(x, y, scaling_factor, image_center=(1647.5, 1275.5)):\n",
    "    relative_x = (image_center[0] - x) / scaling_factor\n",
    "    relative_y = (image_center[1] - y) / scaling_factor\n",
    "    return relative_x, relative_y\n",
    "\n",
    "\n",
    "\n",
    "if __name__ == '__main__':\n",
    "  arm.go_home() \n",
    "  time.sleep_ms(2000) \n",
    "  (x,y,z) = arm.ORIGIN\n",
    "  \n",
    "  new_coord = [300,2248]\n",
    "  factor = calculate_scaling_factor()\n",
    "  rel_x, rel_y = calculate_relative_coordinates(x=new_coord[0], y=new_coord[1], scaling_factor=factor)\n",
    "  arm.set_position((x-rel_x,y-rel_y,z-155),1000)\n",
    "  time.sleep_ms(1000) "
   ]
  }
 ],
 "metadata": {
  "kernelspec": {
   "display_name": "Python 3 (ipykernel)",
   "language": "python",
   "name": "python3"
  },
  "language_info": {
   "codemirror_mode": {
    "name": "ipython",
    "version": 3
   },
   "file_extension": ".py",
   "mimetype": "text/x-python",
   "name": "python",
   "nbconvert_exporter": "python",
   "pygments_lexer": "ipython3",
   "version": "3.9.2"
  }
 },
 "nbformat": 4,
 "nbformat_minor": 5
}
