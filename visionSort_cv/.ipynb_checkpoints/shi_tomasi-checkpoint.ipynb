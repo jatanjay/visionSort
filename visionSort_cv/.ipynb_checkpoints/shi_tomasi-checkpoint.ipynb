{
 "cells": [
  {
   "cell_type": "code",
   "execution_count": 40,
   "id": "1956e98e-f48d-4af3-8b89-8a22f7ab54ec",
   "metadata": {},
   "outputs": [],
   "source": [
    "# import cv2\n",
    "# import numpy as np\n",
    "\n",
    "# # Load the image\n",
    "# image = cv2.imread('just_blocks.jpg')\n",
    "\n",
    "# # Convert the image to grayscale\n",
    "# gray = cv2.GaussianBlur(image, (9, 9), 0)\n",
    "# gray = cv2.cvtColor(gray, cv2.COLOR_BGR2GRAY)\n",
    "\n",
    "# # Adjustable parameters\n",
    "# quality_level = 0.10  # You can experiment with this value\n",
    "# min_distance = 1  # Adjust this value based on the distance between corners\n",
    "# block_size = 2  # You can experiment with this value\n",
    "\n",
    "# # Perform Shi-Tomasi corner detection with adjusted parameters\n",
    "# corners = cv2.goodFeaturesToTrack(gray, maxCorners=100, qualityLevel=quality_level,\n",
    "#                                    minDistance=min_distance, blockSize=block_size)\n",
    "\n",
    "# # Convert corners to integers\n",
    "# corners = np.int0(corners)\n",
    "\n",
    "# # Draw circles at detected corners\n",
    "# for corner in corners:\n",
    "#     x, y = corner.ravel()\n",
    "#     cv2.circle(image, (x, y), 5, 255, -1)\n",
    "\n",
    "# # Extract center coordinates of the detected corners\n",
    "# center_coordinates = [(corner[0][0], corner[0][1]) for corner in corners]\n",
    "\n",
    "# # Find the centroid of each object\n",
    "# centroids = []\n",
    "# for i in range(0, len(center_coordinates), 4):  # Assuming 4 corners per object\n",
    "#     object_points = center_coordinates[i:i+4]\n",
    "#     centroid = (sum(x for x, y in object_points) // 4, sum(y for x, y in object_points) // 4)\n",
    "#     centroids.append(centroid)\n",
    "#     cv2.circle(image, centroid, 10, (0, 255, 0), -1)  # Plot the centroid on the image\n",
    "\n",
    "# # Save the image with detected corners and centroids\n",
    "# output_path = 'imgs/result_image_with_corners_and_centroids.jpg'\n",
    "# cv2.imwrite(output_path, image)\n",
    "\n",
    "# # Print the center coordinates\n",
    "# print(\"Centroid Coordinates:\")\n",
    "# for centroid in centroids:\n",
    "#     print(centroid)\n"
   ]
  },
  {
   "cell_type": "code",
   "execution_count": 54,
   "id": "2d066916-6b3c-4d1f-8601-7a44906a3558",
   "metadata": {},
   "outputs": [
    {
     "data": {
      "text/plain": [
       "True"
      ]
     },
     "execution_count": 54,
     "metadata": {},
     "output_type": "execute_result"
    }
   ],
   "source": [
    "import cv2\n",
    "import numpy as np\n",
    "\n",
    "# Load the image\n",
    "image = cv2.imread('just_blocks.jpg')\n",
    "\n",
    "# Convert the image to grayscale\n",
    "gray = cv2.cvtColor(image, cv2.COLOR_BGR2GRAY)\n",
    "\n",
    "# Apply GaussianBlur to reduce noise and improve contour detection\n",
    "blurred = cv2.GaussianBlur(gray, (9, 9), 0)\n",
    "\n",
    "# Use Canny edge detection to find edges in the image\n",
    "edges = cv2.Canny(blurred, 5, 300)\n",
    "\n",
    "# Find contours in the edged image\n",
    "contours, _ = cv2.findContours(edges, cv2.RETR_EXTERNAL, cv2.CHAIN_APPROX_SIMPLE)\n",
    "\n",
    "# Iterate through the contours and find the center of each block\n",
    "for contour in contours:\n",
    "    # Calculate the center of the contour\n",
    "    M = cv2.moments(contour)\n",
    "    if M[\"m00\"] != 0:\n",
    "        cX = int(M[\"m10\"] / M[\"m00\"])\n",
    "        cY = int(M[\"m01\"] / M[\"m00\"])\n",
    "\n",
    "        # Draw a circle at the center of the block\n",
    "        cv2.circle(image, (cX, cY), 5, (0, 255, 0), -1)\n",
    "\n",
    "        # Annotate the center coordinates\n",
    "        text = f\"({cX}, {cY})\"\n",
    "        cv2.putText(image, text, (cX - 50, cY - 20), cv2.FONT_HERSHEY_SIMPLEX, 0.5, (255, 255, 255), 2)\n",
    "\n",
    "# Save the result image\n",
    "cv2.imwrite('imgs/blocks_coord.jpeg', image)\n"
   ]
  },
  {
   "cell_type": "code",
   "execution_count": null,
   "id": "eee55069-e3dc-4529-8fe5-9f157cb2410d",
   "metadata": {},
   "outputs": [],
   "source": []
  }
 ],
 "metadata": {
  "kernelspec": {
   "display_name": "Python 3 (ipykernel)",
   "language": "python",
   "name": "python3"
  },
  "language_info": {
   "codemirror_mode": {
    "name": "ipython",
    "version": 3
   },
   "file_extension": ".py",
   "mimetype": "text/x-python",
   "name": "python",
   "nbconvert_exporter": "python",
   "pygments_lexer": "ipython3",
   "version": "3.9.2"
  }
 },
 "nbformat": 4,
 "nbformat_minor": 5
}
