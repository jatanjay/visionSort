{
 "cells": [
  {
   "cell_type": "code",
   "execution_count": 6,
   "id": "80e6551e-2665-44b6-b6c7-6551704a1bb8",
   "metadata": {},
   "outputs": [
    {
     "name": "stdout",
     "output_type": "stream",
     "text": [
      "Image with detected markers saved at: /home/qt/visionSort/visionSort_cv/imgs/detected_markers_image.jpg\n",
      "(1647.5, 1275.5)\n",
      "Length of the rectangle: 1945.0 pixels\n",
      "Breadth of the rectangle: 2695.0 pixels\n",
      "5241775.0\n",
      "Cropped image inside the resultant box saved at: /home/qt/visionSort/visionSort_cv/imgs/cropped_image.jpg\n",
      "Image with circles, blue box, and lines saved at: /home/qt/visionSort/visionSort_cv/imgs/image_with_circles_box.jpg\n"
     ]
    }
   ],
   "source": [
    "import cv2\n",
    "import os\n",
    "import numpy as np\n",
    "\n",
    "def detect_aruco_markers_and_save(image_path, save_path):\n",
    "    image = cv2.imread(image_path)\n",
    "    gray = cv2.cvtColor(image, cv2.COLOR_BGR2GRAY)\n",
    "    gray = cv2.GaussianBlur(image, (5, 5), 0)\n",
    "    \n",
    "    aruco_dict = cv2.aruco.Dictionary_get(cv2.aruco.DICT_ARUCO_ORIGINAL)\n",
    "    parameters = cv2.aruco.DetectorParameters_create()\n",
    "    corners, ids, rejected_img_points = cv2.aruco.detectMarkers(gray, aruco_dict, parameters=parameters)\n",
    "    image_with_markers = cv2.aruco.drawDetectedMarkers(image.copy(), corners, ids, (0, 255, 0))\n",
    "    height, width, _ = image.shape\n",
    "    save_filename = os.path.join(save_path, 'detected_markers_image.jpg')\n",
    "    cv2.imwrite(save_filename, image_with_markers)\n",
    "    print(f\"Image with detected markers saved at: {save_filename}\")\n",
    "\n",
    "    \n",
    "    center_points = []\n",
    "    for (marker, id) in zip(corners, ids):\n",
    "        corner = marker.reshape((4, 2))\n",
    "        (tl, tr, br, bl) = corner\n",
    "        cx = int((tl[0] + br[0]) / 2)\n",
    "        cy = int((tl[1] + br[1]) / 2)\n",
    "        center_points.append((cx, cy))\n",
    "        cv2.circle(image, (cx, cy), 4, (255, 1, 1), 2)  \n",
    "        label_text = f'ID:{id[0]} ({cx},{cy})'\n",
    "        cv2.putText(image, label_text, (cx + 25, cy - 25), cv2.FONT_HERSHEY_SIMPLEX, 2, (1, 1, 1), 1, cv2.LINE_AA)\n",
    "\n",
    "    center_points = np.array(center_points)\n",
    "    hull = cv2.convexHull(center_points, clockwise=True, returnPoints=False)\n",
    "    rect = cv2.minAreaRect(center_points)\n",
    "    box = cv2.boxPoints(rect)\n",
    "    box = np.int0(box)\n",
    "    area = cv2.contourArea(box)\n",
    "    \n",
    "\n",
    "    (center, size, angle) = rect\n",
    "    (width, height) = size\n",
    "    print(center)\n",
    "    \n",
    "    print(f\"Length of the rectangle: {width} pixels\")\n",
    "    print(f\"Breadth of the rectangle: {height} pixels\")\n",
    "\n",
    "    mask = np.zeros_like(image)\n",
    "    cv2.drawContours(mask, [box], 0, (255, 255, 255), 1)\n",
    "    result_cropped = cv2.bitwise_and(image, mask)\n",
    "\n",
    "    center = (int(rect[0][0]), int(rect[0][1]))\n",
    "    radius = 50\n",
    "    cv2.circle(image, center, radius, (123, 222, 1), 5)\n",
    "    print(area)\n",
    "    \n",
    "    box_image = np.zeros_like(image)\n",
    "    cv2.drawContours(box_image, [box], 0, (122,250, 243), -1)\n",
    "\n",
    "    opacity = 0.10\n",
    "    cv2.addWeighted(box_image, opacity, image, 1 - opacity, 0, image)\n",
    "    \n",
    "    \n",
    "    # Save the cropped image\n",
    "    save_filename_cropped = os.path.join(save_path, 'cropped_image.jpg')\n",
    "    cv2.imwrite(save_filename_cropped, result_cropped)\n",
    "    print(f\"Cropped image inside the resultant box saved at: {save_filename_cropped}\")\n",
    "    save_filename_with_circles_and_box = os.path.join(save_path, 'image_with_circles_box.jpg')\n",
    "    cv2.imwrite(save_filename_with_circles_and_box, image)\n",
    "    print(f\"Image with circles, blue box, and lines saved at: {save_filename_with_circles_and_box}\")\n",
    "\n",
    "image_path = '/home/qt/visionSort/visionSort_cv/Alignment Page.jpg'\n",
    "save_path = '/home/qt/visionSort/visionSort_cv/imgs'\n",
    "detect_aruco_markers_and_save(image_path, save_path)"
   ]
  },
  {
   "cell_type": "code",
   "execution_count": 7,
   "id": "566038fa-d1b3-4e69-b7d6-c952b40c2f88",
   "metadata": {},
   "outputs": [
    {
     "name": "stdout",
     "output_type": "stream",
     "text": [
      "300.0\n",
      "303.0\n",
      "-163.0\n",
      "1.0\n"
     ]
    }
   ],
   "source": [
    "import numpy as np\n",
    "\n",
    "def set_robot_position(x, y, z, t):\n",
    "    center_x = 1650\n",
    "    center_y = 1272\n",
    "    translation_z = -163.0\n",
    "    \n",
    "    translation_matrix = np.array([\n",
    "        [1, 0, 0, center_x],\n",
    "        [0, 1, 0, center_y - -163],\n",
    "        [0, 0, 1, translation_z],\n",
    "        [0, 0, 0, 1]\n",
    "    ])\n",
    "\n",
    "    position_vector = np.array([x, y, z, 1])\n",
    "\n",
    "    translated_position = np.dot(translation_matrix, position_vector)\n",
    "\n",
    "    translated_x, translated_y, translated_z, _ = translated_position\n",
    "\n",
    "    for i in range(len(translated_position)):\n",
    "        print(translated_position[i])\n",
    "\n",
    "# Example usage:\n",
    "set_robot_position(-1350, -1132, 0, 1)\n"
   ]
  },
  {
   "cell_type": "code",
   "execution_count": 8,
   "id": "7cd31edd-f1cd-429f-bdad-05c1a76311f8",
   "metadata": {},
   "outputs": [],
   "source": [
    "l = 51.461458333\n",
    "b = 71.305208333"
   ]
  },
  {
   "cell_type": "code",
   "execution_count": 9,
   "id": "4c504cbf-e04f-4d4f-8a10-c1dfd60c159f",
   "metadata": {},
   "outputs": [
    {
     "data": {
      "text/plain": [
       "25.7307291665"
      ]
     },
     "execution_count": 9,
     "metadata": {},
     "output_type": "execute_result"
    }
   ],
   "source": [
    "l / 2"
   ]
  },
  {
   "cell_type": "code",
   "execution_count": 10,
   "id": "6c464838-085b-4c65-9a4e-b2f9e4b2520d",
   "metadata": {},
   "outputs": [
    {
     "data": {
      "text/plain": [
       "35.6526041665"
      ]
     },
     "execution_count": 10,
     "metadata": {},
     "output_type": "execute_result"
    }
   ],
   "source": [
    "b / 2"
   ]
  },
  {
   "cell_type": "code",
   "execution_count": 11,
   "id": "15ec4fc2-44be-45bd-811f-919bc293c86a",
   "metadata": {},
   "outputs": [
    {
     "data": {
      "text/plain": [
       "194.52499999999998"
      ]
     },
     "execution_count": 11,
     "metadata": {},
     "output_type": "execute_result"
    }
   ],
   "source": [
    "356.525 - 162"
   ]
  },
  {
   "cell_type": "code",
   "execution_count": 12,
   "id": "59afcd0f-2019-4e5b-8a44-3281f45b0fde",
   "metadata": {},
   "outputs": [
    {
     "data": {
      "text/plain": [
       "3.7795612211189056"
      ]
     },
     "execution_count": 12,
     "metadata": {},
     "output_type": "execute_result"
    }
   ],
   "source": [
    "1945/514.61"
   ]
  },
  {
   "cell_type": "code",
   "execution_count": 13,
   "id": "23fa6992-7678-460d-846b-bedbd84e69c8",
   "metadata": {},
   "outputs": [
    {
     "data": {
      "text/plain": [
       "437.0026525198939"
      ]
     },
     "execution_count": 13,
     "metadata": {},
     "output_type": "execute_result"
    }
   ],
   "source": [
    "1647.5 / 3.77\n"
   ]
  },
  {
   "cell_type": "code",
   "execution_count": 14,
   "id": "6df5f29a-58e8-4b5b-b3ba-b2da5d5866c3",
   "metadata": {},
   "outputs": [
    {
     "data": {
      "text/plain": [
       "338.3289124668435"
      ]
     },
     "execution_count": 14,
     "metadata": {},
     "output_type": "execute_result"
    }
   ],
   "source": [
    "1275.5 / 3.77"
   ]
  },
  {
   "cell_type": "code",
   "execution_count": 15,
   "id": "d8387d6f-2046-4f52-9bff-a791672c0bb7",
   "metadata": {},
   "outputs": [
    {
     "data": {
      "text/plain": [
       "(137, 35.31999999999999)"
      ]
     },
     "execution_count": 15,
     "metadata": {},
     "output_type": "execute_result"
    }
   ],
   "source": [
    "437 - 300, 338.32 - 303"
   ]
  },
  {
   "cell_type": "code",
   "execution_count": 20,
   "id": "b6a7021a-76f2-44ac-a496-ab3b3bc96bfb",
   "metadata": {},
   "outputs": [
    {
     "data": {
      "text/plain": [
       "121.5625"
      ]
     },
     "execution_count": 20,
     "metadata": {},
     "output_type": "execute_result"
    }
   ],
   "source": [
    "972.5 / 8"
   ]
  },
  {
   "cell_type": "code",
   "execution_count": 21,
   "id": "1843ba44-0dc6-4f8a-a873-c0c930d0522d",
   "metadata": {},
   "outputs": [
    {
     "data": {
      "text/plain": [
       "122.5"
      ]
     },
     "execution_count": 21,
     "metadata": {},
     "output_type": "execute_result"
    }
   ],
   "source": [
    "1347.5 / 11"
   ]
  },
  {
   "cell_type": "code",
   "execution_count": null,
   "id": "7919edad-a6c6-439a-837d-bc5e2187b611",
   "metadata": {},
   "outputs": [],
   "source": []
  },
  {
   "cell_type": "code",
   "execution_count": 17,
   "id": "fa9cc32f-10d0-47bd-aad2-a1fdd34f60d2",
   "metadata": {},
   "outputs": [
    {
     "data": {
      "text/plain": [
       "(1347.5, 972.5)"
      ]
     },
     "execution_count": 17,
     "metadata": {},
     "output_type": "execute_result"
    }
   ],
   "source": [
    "1647.5 - 300, 1275.5 - 303"
   ]
  },
  {
   "cell_type": "code",
   "execution_count": 23,
   "id": "0a8cfbc1-82b2-4bc1-bf0d-3af19cde7308",
   "metadata": {},
   "outputs": [
    {
     "data": {
      "text/plain": [
       "-286"
      ]
     },
     "execution_count": 23,
     "metadata": {},
     "output_type": "execute_result"
    }
   ],
   "source": [
    "-164 - 122"
   ]
  },
  {
   "cell_type": "code",
   "execution_count": 27,
   "id": "5e36288c-5c27-4a6b-9971-149ccc5f675e",
   "metadata": {},
   "outputs": [
    {
     "data": {
      "text/plain": [
       "(110.45081967213115, -79.71311475409836)"
      ]
     },
     "execution_count": 27,
     "metadata": {},
     "output_type": "execute_result"
    }
   ],
   "source": [
    "(1647.5 - 300)/122 * 10, (1275.5 - 2248)/122 * 10"
   ]
  },
  {
   "cell_type": "code",
   "execution_count": 47,
   "id": "8e070b2a-79ab-47ae-85fc-99cbc753a5dc",
   "metadata": {},
   "outputs": [],
   "source": [
    "def calculate_scaling_factor(x, y, length_proportion, breadth_proportion, image_center=(1647.5, 1275.5)):\n",
    "    factor_x = (image_center[0] - x) / length_proportion\n",
    "    factor_y = (image_center[1] - y) / breadth_proportion\n",
    "    scaling_factor = (factor_x + factor_y) / 2\n",
    "    return scaling_factor\n",
    "    \n",
    "def calculate_relative_coordinates(x, y, scaling_factor, image_center=(1647.5, 1275.5)):\n",
    "    relative_x = (image_center[0] - x) / scaling_factor\n",
    "    relative_y = (image_center[1] - y) / scaling_factor\n",
    "    return relative_x, relative_y\n"
   ]
  },
  {
   "cell_type": "code",
   "execution_count": 48,
   "id": "f11ff5b6-9b75-4cea-b8e4-5a87e80ae753",
   "metadata": {},
   "outputs": [],
   "source": [
    "s_f = calculate_scaling_factor(300,303,110,80)"
   ]
  },
  {
   "cell_type": "code",
   "execution_count": 51,
   "id": "b0ce6488-4bd2-4d2d-be47-0a729b9fa668",
   "metadata": {},
   "outputs": [],
   "source": [
    "r_c = calculate_relative_coordinates(2626,1118, s_f)"
   ]
  },
  {
   "cell_type": "code",
   "execution_count": 52,
   "id": "581c1f8c-7ed3-41f6-92f2-3314fb553e36",
   "metadata": {},
   "outputs": [
    {
     "data": {
      "text/plain": [
       "(-80.1843790012804, 12.906530089628681)"
      ]
     },
     "execution_count": 52,
     "metadata": {},
     "output_type": "execute_result"
    }
   ],
   "source": [
    "r_c"
   ]
  },
  {
   "cell_type": "code",
   "execution_count": null,
   "id": "0de7fc87-9fd5-4ecc-aadd-2576db4704a0",
   "metadata": {},
   "outputs": [],
   "source": []
  },
  {
   "cell_type": "code",
   "execution_count": null,
   "id": "752e0f20-769a-4e93-942f-f12b954ae5af",
   "metadata": {},
   "outputs": [],
   "source": []
  }
 ],
 "metadata": {
  "kernelspec": {
   "display_name": "Python 3 (ipykernel)",
   "language": "python",
   "name": "python3"
  },
  "language_info": {
   "codemirror_mode": {
    "name": "ipython",
    "version": 3
   },
   "file_extension": ".py",
   "mimetype": "text/x-python",
   "name": "python",
   "nbconvert_exporter": "python",
   "pygments_lexer": "ipython3",
   "version": "3.9.2"
  }
 },
 "nbformat": 4,
 "nbformat_minor": 5
}
