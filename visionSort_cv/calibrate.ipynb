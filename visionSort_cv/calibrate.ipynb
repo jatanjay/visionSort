{
 "cells": [
  {
   "cell_type": "code",
   "execution_count": 1,
   "id": "b1073cd1-40b0-4e74-ab7e-36bd2f07b931",
   "metadata": {},
   "outputs": [
    {
     "name": "stdout",
     "output_type": "stream",
     "text": [
      "Image with detected markers saved at: /home/qt/visionSort/visionSort_cv/imgs/detected_markers_image.jpg\n",
      "Pixel Positions:\n",
      "(2995, 2248)\n",
      "(300, 2248)\n",
      "(2995, 303)\n",
      "(300, 303)\n",
      "Total Area of the Box: 5241775.0\n",
      "Image with circles, blue box, and lines saved at: /home/qt/visionSort/visionSort_cv/imgs/image_with_circles_box.jpg\n"
     ]
    }
   ],
   "source": [
    "import cv2\n",
    "import os\n",
    "import numpy as np\n",
    "\n",
    "def detect_aruco_markers_and_save(image_path, save_path):\n",
    "    image = cv2.imread(image_path)\n",
    "    \n",
    "    gray = cv2.cvtColor(image, cv2.COLOR_BGR2GRAY)\n",
    "    gray = cv2.GaussianBlur(image, (5, 5), 0)\n",
    "    \n",
    "    aruco_dict = cv2.aruco.Dictionary_get(cv2.aruco.DICT_ARUCO_ORIGINAL)\n",
    "    \n",
    "    parameters = cv2.aruco.DetectorParameters_create()\n",
    "    \n",
    "    corners, ids, rejected_img_points = cv2.aruco.detectMarkers(gray, aruco_dict, parameters=parameters)\n",
    "    \n",
    "    image_with_markers = cv2.aruco.drawDetectedMarkers(image.copy(), corners, ids, (0, 255, 0))\n",
    "    \n",
    "    height, width, _ = image.shape\n",
    "    \n",
    "    save_filename = os.path.join(save_path, 'detected_markers_image.jpg')\n",
    "    cv2.imwrite(save_filename, image_with_markers)\n",
    "    print(f\"Image with detected markers saved at: {save_filename}\")\n",
    "\n",
    "    center_points = []\n",
    "    for (marker, id) in zip(corners, ids):\n",
    "        corner = marker.reshape((4, 2))\n",
    "        (tl, tr, br, bl) = corner\n",
    "        cx = int((tl[0] + br[0]) / 2)\n",
    "        cy = int((tl[1] + br[1]) / 2)\n",
    "        center_points.append((cx, cy))\n",
    "\n",
    "        cv2.circle(image, (cx, cy), 4, (255, 1, 1), 2)  \n",
    "\n",
    "        # Label the circle with marker ID and position\n",
    "        label_text = f'ID:{id[0]} ({cx},{cy})'\n",
    "        cv2.putText(image, label_text, (cx + 100, cy - 25), cv2.FONT_HERSHEY_SIMPLEX, 0.5, (1, 1, 1), 1, cv2.LINE_AA)\n",
    "\n",
    "    center_points = np.array(center_points)\n",
    "    hull = cv2.convexHull(center_points, clockwise=True, returnPoints=False)\n",
    "    rect = cv2.minAreaRect(center_points)\n",
    "    box = cv2.boxPoints(rect)\n",
    "    box = np.int0(box)\n",
    "\n",
    "    area = cv2.contourArea(box)\n",
    "    \n",
    "    print(f\"Pixel Positions:\")\n",
    "    for point in center_points:\n",
    "        print(f\"({point[0]}, {point[1]})\")\n",
    "\n",
    "    print(f\"Total Area of the Box: {area}\")\n",
    "\n",
    "    box_image = np.zeros_like(image)\n",
    "    cv2.drawContours(box_image, [box], 0, (255, 0, 0), -1)\n",
    "\n",
    "    opacity = 0.25\n",
    "    cv2.addWeighted(box_image, opacity, image, 1 - opacity, 0, image)\n",
    "\n",
    "\n",
    "    \n",
    "\n",
    "    \n",
    "    save_filename_with_circles_and_box = os.path.join(save_path, 'image_with_circles_box.jpg')\n",
    "    cv2.imwrite(save_filename_with_circles_and_box, image)\n",
    "    print(f\"Image with circles, blue box, and lines saved at: {save_filename_with_circles_and_box}\")\n",
    "\n",
    "image_path = '/home/qt/visionSort/visionSort_cv/Alignment Page.jpg'\n",
    "save_path = '/home/qt/visionSort/visionSort_cv/imgs'\n",
    "detect_aruco_markers_and_save(image_path, save_path)\n"
   ]
  },
  {
   "cell_type": "code",
   "execution_count": null,
   "id": "64edbe2f-72ba-43d6-b2a2-d1fb4d2491de",
   "metadata": {},
   "outputs": [],
   "source": []
  },
  {
   "cell_type": "code",
   "execution_count": 1,
   "id": "4518574f-310d-4b8c-9493-747202834465",
   "metadata": {},
   "outputs": [
    {
     "data": {
      "text/plain": [
       "2695"
      ]
     },
     "execution_count": 1,
     "metadata": {},
     "output_type": "execute_result"
    }
   ],
   "source": [
    "2995 - 300"
   ]
  },
  {
   "cell_type": "code",
   "execution_count": null,
   "id": "fc7f24ef-fca9-4896-9a46-ceba564d6725",
   "metadata": {},
   "outputs": [],
   "source": []
  }
 ],
 "metadata": {
  "kernelspec": {
   "display_name": "Python 3 (ipykernel)",
   "language": "python",
   "name": "python3"
  },
  "language_info": {
   "codemirror_mode": {
    "name": "ipython",
    "version": 3
   },
   "file_extension": ".py",
   "mimetype": "text/x-python",
   "name": "python",
   "nbconvert_exporter": "python",
   "pygments_lexer": "ipython3",
   "version": "3.11.2"
  }
 },
 "nbformat": 4,
 "nbformat_minor": 5
}
