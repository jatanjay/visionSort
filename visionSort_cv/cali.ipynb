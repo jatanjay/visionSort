{
 "cells": [
  {
   "cell_type": "code",
   "execution_count": 34,
   "id": "80e6551e-2665-44b6-b6c7-6551704a1bb8",
   "metadata": {},
   "outputs": [
    {
     "name": "stdout",
     "output_type": "stream",
     "text": [
      "Image with detected markers saved at: /home/qt/visionSort/visionSort_cv/imgs/detected_markers_image.jpg\n",
      "Length of the rectangle: 1074.07861328125 pixels\n",
      "Breadth of the rectangle: 774.8948364257812 pixels\n",
      "Cropped image inside the resultant box saved at: /home/qt/visionSort/visionSort_cv/imgs/cropped_image.jpg\n",
      "Image with circles, blue box, and lines saved at: /home/qt/visionSort/visionSort_cv/imgs/image_with_circles_box.jpg\n"
     ]
    }
   ],
   "source": [
    "import cv2\n",
    "import os\n",
    "import numpy as np\n",
    "\n",
    "def detect_aruco_markers_and_save(image_path, save_path):\n",
    "    image = cv2.imread(image_path)\n",
    "    gray = cv2.cvtColor(image, cv2.COLOR_BGR2GRAY)\n",
    "    gray = cv2.GaussianBlur(image, (5, 5), 0)\n",
    "    \n",
    "    aruco_dict = cv2.aruco.Dictionary_get(cv2.aruco.DICT_ARUCO_ORIGINAL)\n",
    "    parameters = cv2.aruco.DetectorParameters_create()\n",
    "    corners, ids, rejected_img_points = cv2.aruco.detectMarkers(gray, aruco_dict, parameters=parameters)\n",
    "    image_with_markers = cv2.aruco.drawDetectedMarkers(image.copy(), corners, ids, (0, 255, 0))\n",
    "    height, width, _ = image.shape\n",
    "    save_filename = os.path.join(save_path, 'detected_markers_image.jpg')\n",
    "    cv2.imwrite(save_filename, image_with_markers)\n",
    "    print(f\"Image with detected markers saved at: {save_filename}\")\n",
    "\n",
    "    \n",
    "    center_points = []\n",
    "    for (marker, id) in zip(corners, ids):\n",
    "        corner = marker.reshape((4, 2))\n",
    "        (tl, tr, br, bl) = corner\n",
    "        cx = int((tl[0] + br[0]) / 2)\n",
    "        cy = int((tl[1] + br[1]) / 2)\n",
    "        center_points.append((cx, cy))\n",
    "        cv2.circle(image, (cx, cy), 4, (255, 1, 1), 2)  \n",
    "        label_text = f'ID:{id[0]} ({cx},{cy})'\n",
    "        # cv2.putText(image, label_text, (cx + 100, cy - 25), cv2.FONT_HERSHEY_SIMPLEX, 0.5, (1, 1, 1), 1, cv2.LINE_AA)\n",
    "\n",
    "    center_points = np.array(center_points)\n",
    "    hull = cv2.convexHull(center_points, clockwise=True, returnPoints=False)\n",
    "    rect = cv2.minAreaRect(center_points)\n",
    "    box = cv2.boxPoints(rect)\n",
    "    box = np.int0(box)\n",
    "    area = cv2.contourArea(box)\n",
    "    \n",
    "\n",
    "    (center, size, angle) = rect\n",
    "    (width, height) = size\n",
    "    \n",
    "    \n",
    "    print(f\"Length of the rectangle: {width} pixels\")\n",
    "    print(f\"Breadth of the rectangle: {height} pixels\")\n",
    "\n",
    "    mask = np.zeros_like(image)\n",
    "    cv2.drawContours(mask, [box], 0, (255, 255, 255), -1)\n",
    "    result_cropped = cv2.bitwise_and(image, mask)\n",
    "\n",
    "    center = (int(rect[0][0]), int(rect[0][1]))\n",
    "    radius = 50\n",
    "    cv2.circle(result_cropped, center, radius, (0, 255, 0), 2)\n",
    "\n",
    "    \n",
    "    box_image = np.zeros_like(image)\n",
    "    cv2.drawContours(box_image, [box], 0, (255,250, 0), -1)\n",
    "\n",
    "    opacity = 0.25\n",
    "    cv2.addWeighted(box_image, opacity, image, 1 - opacity, 0, image)\n",
    "    \n",
    "\n",
    "    \n",
    "    # Save the cropped image\n",
    "    save_filename_cropped = os.path.join(save_path, 'cropped_image.jpg')\n",
    "    cv2.imwrite(save_filename_cropped, result_cropped)\n",
    "    print(f\"Cropped image inside the resultant box saved at: {save_filename_cropped}\")\n",
    "    save_filename_with_circles_and_box = os.path.join(save_path, 'image_with_circles_box.jpg')\n",
    "    cv2.imwrite(save_filename_with_circles_and_box, image)\n",
    "    print(f\"Image with circles, blue box, and lines saved at: {save_filename_with_circles_and_box}\")\n",
    "\n",
    "image_path = '/home/qt/visionSort/visionSort_cv/Align.jpg'\n",
    "save_path = '/home/qt/visionSort/visionSort_cv/imgs'\n",
    "detect_aruco_markers_and_save(image_path, save_path)"
   ]
  },
  {
   "cell_type": "code",
   "execution_count": null,
   "id": "566038fa-d1b3-4e69-b7d6-c952b40c2f88",
   "metadata": {},
   "outputs": [],
   "source": []
  },
  {
   "cell_type": "code",
   "execution_count": null,
   "id": "f397e969-7c3e-44f3-a21a-b89fbea86d3e",
   "metadata": {},
   "outputs": [],
   "source": []
  }
 ],
 "metadata": {
  "kernelspec": {
   "display_name": "Python 3 (ipykernel)",
   "language": "python",
   "name": "python3"
  },
  "language_info": {
   "codemirror_mode": {
    "name": "ipython",
    "version": 3
   },
   "file_extension": ".py",
   "mimetype": "text/x-python",
   "name": "python",
   "nbconvert_exporter": "python",
   "pygments_lexer": "ipython3",
   "version": "3.9.2"
  }
 },
 "nbformat": 4,
 "nbformat_minor": 5
}
